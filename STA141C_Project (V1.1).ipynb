{
 "cells": [
  {
   "cell_type": "markdown",
   "id": "5f24a6cb",
   "metadata": {},
   "source": [
    "# STA 141C Final Project\n",
    "\n",
    "Group 7\n",
    "\n",
    "Man Chuen Chau (919819081)\n",
    "\n",
    "\n"
   ]
  },
  {
   "cell_type": "markdown",
   "id": "c00e3f9b",
   "metadata": {},
   "source": [
    "### Analysis of Heart Disease Dataset using Principal Component Analysis"
   ]
  },
  {
   "cell_type": "markdown",
   "id": "c13b7f24",
   "metadata": {},
   "source": [
    "### 1.\t  Abstract"
   ]
  },
  {
   "cell_type": "markdown",
   "id": "95c47330",
   "metadata": {},
   "source": [
    "Heart disease is a significant public health issue worldwide, and early detection and prevention are critical to reducing the burden of the disease. This project aims to perform a comprehensive analysis of a large dataset of heart disease using principal component analysis (PCA). The objectives of the project are to identify the key indicators that contribute to the development of heart disease, develop a predictive model for heart disease, and reduce the dimension of the dataset. The dataset contains information on personal critical indicators of heart disease, such as age, gender, smoking status, blood pressure, cholesterol levels, etc. The large dataset contains more than 300,000 records and 18 columns. PCA will be used to analyze the dataset, and QR decomposition and Single Valued Decomposition will be used to evaluate PCA. The expected outcomes of the project are the identification of critical indicators of heart disease, the development of a predictive model, and insights into ways to make the analysis more efficient."
   ]
  },
  {
   "cell_type": "markdown",
   "id": "f4591107",
   "metadata": {},
   "source": [
    "### 2.  Introduction"
   ]
  },
  {
   "cell_type": "markdown",
   "id": "b8d2774c",
   "metadata": {},
   "source": [
    "Heart disease is a leading cause of death globally and poses a significant public health challenge. Early detection and prevention of heart disease are crucial to reducing the burden of the disease. The development of predictive models using machine learning techniques can help identify critical indicators of heart disease and aid in early diagnosis and prevention.\n",
    "\n",
    "This project aims to analyze a large dataset of heart disease using principal component analysis (PCA) to identify key indicators that contribute to the development of heart disease and develop a predictive model for heart disease. The dataset contains information on various personal critical indicators of heart disease, such as age, gender, smoking status, blood pressure, cholesterol levels, etc. The dataset was obtained from Kaggle and contains more than 300,000 records and 18 columns.\n",
    "\n",
    "PCA is a widely used method for dimensionality reduction that can help identify critical indicators of heart disease by reducing the dimension of the dataset. The project will use QR decomposition and Single Valued Decomposition to evaluate PCA and compare their performance. The outcomes of the project are expected to identify key indicators that contribute to the development of heart disease and develop a predictive model for heart disease using the identified vital indicators. Additionally, the project aims to explore ways to make the analysis more efficient.\n",
    "\n",
    "The insights gained from this project can be valuable in early diagnosis and prevention of heart disease. The predictive model developed can be used to identify individuals at high risk of developing heart disease and implement appropriate preventive measures. The project outcomes can contribute to the ongoing efforts to reduce the burden of heart disease globally."
   ]
  },
  {
   "cell_type": "code",
   "execution_count": 8,
   "id": "46456983",
   "metadata": {},
   "outputs": [],
   "source": [
    "# Libraries\n",
    "import numpy as np\n",
    "import pandas as pd\n",
    "from sklearn.preprocessing import LabelEncoder\n",
    "import time\n",
    "import matplotlib.pyplot as plt\n",
    "import matplotlib.dates as mdates\n",
    "import seaborn as sns\n",
    "\n",
    "import warnings\n",
    "warnings.filterwarnings(\"ignore\")"
   ]
  },
  {
   "cell_type": "markdown",
   "id": "9a0fbe6a",
   "metadata": {},
   "source": [
    "### 3.\tData"
   ]
  },
  {
   "cell_type": "markdown",
   "id": "4409c079",
   "metadata": {},
   "source": [
    "### 3.1 Data Acquisition and Validation"
   ]
  },
  {
   "cell_type": "markdown",
   "id": "3e4ac22c",
   "metadata": {},
   "source": [
    "The data file is obtained from the website called 'Kaggle' (Pytlak). The dataset originally come from the CDC which performed an annual CDC survey data of 400k adults related to their health status in 2020 (Pytlak). \n"
   ]
  },
  {
   "cell_type": "code",
   "execution_count": 28,
   "id": "15813ff6",
   "metadata": {},
   "outputs": [
    {
     "name": "stdout",
     "output_type": "stream",
     "text": [
      "<class 'pandas.core.frame.DataFrame'>\n",
      "RangeIndex: 319795 entries, 0 to 319794\n",
      "Data columns (total 18 columns):\n",
      " #   Column            Non-Null Count   Dtype  \n",
      "---  ------            --------------   -----  \n",
      " 0   HeartDisease      319795 non-null  object \n",
      " 1   BMI               319795 non-null  float64\n",
      " 2   Smoking           319795 non-null  object \n",
      " 3   AlcoholDrinking   319795 non-null  object \n",
      " 4   Stroke            319795 non-null  object \n",
      " 5   PhysicalHealth    319795 non-null  float64\n",
      " 6   MentalHealth      319795 non-null  float64\n",
      " 7   DiffWalking       319795 non-null  object \n",
      " 8   Sex               319795 non-null  object \n",
      " 9   AgeCategory       319795 non-null  object \n",
      " 10  Race              319795 non-null  object \n",
      " 11  Diabetic          319795 non-null  object \n",
      " 12  PhysicalActivity  319795 non-null  object \n",
      " 13  GenHealth         319795 non-null  object \n",
      " 14  SleepTime         319795 non-null  float64\n",
      " 15  Asthma            319795 non-null  object \n",
      " 16  KidneyDisease     319795 non-null  object \n",
      " 17  SkinCancer        319795 non-null  object \n",
      "dtypes: float64(4), object(14)\n",
      "memory usage: 43.9+ MB\n"
     ]
    }
   ],
   "source": [
    "# read the data file\n",
    "df_raw_data = pd.read_csv('heart_2020_cleaned.csv')\n",
    "\n",
    "# check if the data file is empty\n",
    "if(df_raw_data.empty):\n",
    "    print ('The data file is empty!')\n",
    "else:\n",
    "    df_raw_data.info()\n"
   ]
  },
  {
   "cell_type": "code",
   "execution_count": 29,
   "id": "20028f83",
   "metadata": {},
   "outputs": [
    {
     "name": "stdout",
     "output_type": "stream",
     "text": [
      "No missing values found!\n"
     ]
    }
   ],
   "source": [
    "# check if there are any missing values\n",
    "missng_values = df_raw_data.isna().sum()\n",
    "\n",
    "if (sum(missng_values) > 0):\n",
    "    print(\"{} has {} missing value(s)\".format(col, missng_values))\n",
    "else:\n",
    "    print(\"No missing values found!\")    \n",
    "    # copy the raw dataset for variable transformation\n",
    "    df_trans_data = df_raw_data\n"
   ]
  },
  {
   "cell_type": "markdown",
   "id": "ed70963e",
   "metadata": {},
   "source": [
    "### 3.2 Data Description"
   ]
  },
  {
   "attachments": {},
   "cell_type": "markdown",
   "id": "442f18ec",
   "metadata": {},
   "source": [
    "The dataset has 18 columns. One column is response and the other 17 columns are predictors. All predictors are independent and identically distributed.\n",
    "\n",
    "\n",
    "| No. |    Column Name   | Regressor |               Description               |                                                            Value                                                            |\n",
    "|:---:|:----------------:|:---------:|:---------------------------------------:|:---------------------------------------------------------------------------------------------------------------------------:|\n",
    "| 1   | HeartDisease     | Response  | Have heart disease?     | Yes/No                                                                                                                      |\n",
    "| 2   | BMI              | Predictor | Body Mass Index                         | Real Number (1-100)                                                                                                         |\n",
    "| 3   | Smoking          | Predictor | Smoke?                  | Yes/No                                                                                                                      |\n",
    "| 4   | AlcoholDrinking  | Predictor | Drink alcohol?          | Yes/No                                                                                                                      |\n",
    "| 5   | Stroke           | Predictor | Have stroke?            | Yes/No                                                                                                                      |\n",
    "| 6   | PhysicalHealth   | Predictor | The level of physical health            | Integer (0-30)                                                                                                              |\n",
    "| 7   | MentalHealth     | Predictor | The level of mental health              | Integer (0-30)                                                                                                              |\n",
    "| 8   | DiffWalking      | Predictor | Have Diff Walking?      | Yes/No                                                                                                                      |\n",
    "| 9   | Sex              | Predictor | The sex / gender                        | Male/Female                                                                                                                 |\n",
    "| 10  | AgeCategory      | Predictor | The age                                 | Categories:   18-24,   25-29,   30-34,   35-39,   40-44,    45-49,   50-54,   55-59,   60-64,   65-69,   70-74,   75-79,    80 or older |\n",
    "| 11  | Race             | Predictor | The race                                | Categories:   American Indian/Alaskan Native,   Asian,   Black,   Hispanic,   White,   Other                                     |\n",
    "| 12  | Diabetic         | Predictor | Have diabetic?          | Yes/No, No (borderline diabetes), Yes (during pregnancy)                                                                                                                      |\n",
    "| 13  | PhysicalActivity | Predictor | Have physical activity? | Yes/No                                                                                                                      |\n",
    "| 14  | GenHealth        | Predictor |                                         | Categories:   Excellent,   Very Good,   Good,   Fair,   Poor                                                                    |\n",
    "| 15  | SleepTime        | Predictor | How many sleeping hours?                | Integer (1-24)                                                                                                              |\n",
    "| 16  | Asthma           | Predictor | Have asthma?            | Yes/No                                                                                                                      |\n",
    "| 17  | KidneyDisease    | Predictor | Have kidney disease?    | Yes/No                                                                                                                      |\n",
    "| 18  | SkinCancer       | Predictor | Have skin cancer?       | Yes/No                                                                                                                      |\n",
    "\n",
    "\n"
   ]
  },
  {
   "cell_type": "markdown",
   "id": "c5b3a118",
   "metadata": {},
   "source": [
    "### 3.3 Variable Transformation"
   ]
  },
  {
   "cell_type": "markdown",
   "id": "9b520d06",
   "metadata": {},
   "source": [
    "Many columns are categorial data / quanlitative predictors. Regression model can only handle numeric variables. Thus, it is necessary to transform those categorical variables into numeric variables in order to make the regression model work better. Encoding the categorical variables is one of the key performance drivers in modeling. The dataset involves to two types of categorial variables: ordinal and nominal. Each type of categorial variable has a specific way to encode. Generally, ordinal categorial variables will be converted into many dummy variables according to the number of categories. However, this dummy variable approach will increase the dimemsion of the dataset. In order to keep the dimension of the dataset, label encoding approach will be used to convert the ordinal categories to integers (i.e., zero represents the lowest level, 1 represents the higher level and so on).\n",
    "\n",
    "<b>Odinal categorial variables:\n",
    "    \n",
    "AgeCategory:\n",
    "\n",
    "| Original Data  | 18-24 | 25-29 | 30-34 | 35-39 | 40-44 | 45-49 | 50-54 | 55-59 | 60-64 | 65-69 | 70-74 | 75-79 | 80 or older |\n",
    "|----------------|-------|-------|-------|-------|-------|-------|-------|-------|-------|-------|-------|-------|-------------|\n",
    "| Label Encoding | 0     | 1     | 2     | 3     | 4     | 5     | 6     | 7     | 8     | 9    | 10    | 11    | 12          |\n",
    "\n",
    "GenHealth:\n",
    "\n",
    "| Original Data  | Poor  | Fair  | Good  | Very Good | Excellent | \n",
    "|----------------|-------|-------|-------|-----------|-----------|\n",
    "| Label Encoding | 0     | 1     | 2     | 3         | 4         | \n",
    "\n",
    "\n",
    "\n",
    "<b>Nominal categorial variables:\n",
    "    \n",
    "    The variable do not need dummy variables:\n",
    "    \n",
    "| Variable         | Yes | No | Yes (during pregnancy) | No (borderline diabetes) | Male | Female | \n",
    "|------------------|-----|----|------------------------|--------------------------|------|--------|\n",
    "| HeartDisease     | 1   | 0  | -                      | -                        | -    | -      |\n",
    "| Smoking          | 1   | 0  | -                      | -                        | -    | -      |\n",
    "| AlcoholDrinking  | 1   | 0  | -                      | -                        | -    | -      |\n",
    "| Stroke           | 1   | 0  | -                      | -                        | -    | -      |\n",
    "| DiffWalking      | 1   | 0  | -                      | -                        | -    | -      |\n",
    "| Sex              | -   | -  | -                      | -                        | 1    | 0      |\n",
    "| Diabetic         | 1   | 0  | 1                      | 0                        | -    | -      |\n",
    "| PhysicalActivity | 1   | 0  | -                      | -                        | -    | -      |\n",
    "| Asthma           | 1   | 0  | -                      | -                        | -    | -      |\n",
    "| KidneyDisease    | 1   | 0  | -                      | -                        | -    | -      |\n",
    "| SkinCancer       | 1   | 0  | -                      | -                        | -    | -      |    \n",
    "\n",
    "      \n",
    "    The variable need dummy variables:\n",
    "    \n",
    "    One-hot encoding approach is used to convert one categorical column to multiple columns (i.e., dummy variables). The variable 'Race' with 5 categories needs 4 dummy variables:\n",
    "\n",
    "    \n",
    "| Race                           | Indian | Asian | Black | Hispanic | White |\n",
    "|--------------------------------|--------|-------|-------|----------|-------|\n",
    "| American Indian/Alaskan Native | 1      | 0     | 0     | 0        | 0     |\n",
    "| Asian                          | 0      | 1     | 0     | 0        | 0     |\n",
    "| Black                          | 0      | 0     | 1     | 0        | 0     |\n",
    "| Hispanic                       | 0      | 0     | 0     | 1        | 0     |\n",
    "| White                          | 0      | 0     | 0     | 0        | 1     |\n",
    "| Other                          | 0      | 0     | 0     | 0        | 0     |\n"
   ]
  },
  {
   "cell_type": "code",
   "execution_count": 31,
   "id": "f560dab4",
   "metadata": {},
   "outputs": [
    {
     "name": "stdout",
     "output_type": "stream",
     "text": [
      "No missing values found after transformation!\n"
     ]
    }
   ],
   "source": [
    "# transform the odinal categorial variables\n",
    "le = LabelEncoder()\n",
    "\n",
    "le.fit(df_trans_data['AgeCategory'])\n",
    "df_trans_data['AgeCategory'] = le.transform(df_trans_data['AgeCategory'])\n",
    "\n",
    "le.fit(df_trans_data['GenHealth'])\n",
    "df_trans_data['GenHealth'] = le.transform(df_trans_data['GenHealth'])\n",
    "\n",
    "# transform the nominal categorial variables (no dummy variables)\n",
    "df_trans_data['HeartDisease'] = df_trans_data['HeartDisease'].map({'Yes': 1, 'No': 0})\n",
    "df_trans_data['Smoking'] = df_trans_data['Smoking'].map({'Yes': 1, 'No': 0})\n",
    "df_trans_data['AlcoholDrinking'] = df_trans_data['AlcoholDrinking'].map({'Yes': 1, 'No': 0})\n",
    "df_trans_data['Stroke'] = df_trans_data['Stroke'].map({'Yes': 1, 'No': 0})\n",
    "df_trans_data['DiffWalking'] = df_trans_data['DiffWalking'].map({'Yes': 1, 'No': 0})\n",
    "df_trans_data['Sex'] = df_trans_data['Sex'].map({'Male': 1, 'Female': 0})\n",
    "df_trans_data['Diabetic'] = df_trans_data['Diabetic'].map({'Yes': 1, 'No': 0, 'Yes (during pregnancy)': 1, 'No, borderline diabetes': 0})\n",
    "df_trans_data['PhysicalActivity'] = df_trans_data['PhysicalActivity'].map({'Yes': 1, 'No': 0})\n",
    "df_trans_data['Asthma'] = df_trans_data['Asthma'].map({'Yes': 1, 'No': 0})\n",
    "df_trans_data['KidneyDisease'] = df_trans_data['KidneyDisease'].map({'Yes': 1, 'No': 0})\n",
    "df_trans_data['SkinCancer'] = df_trans_data['SkinCancer'].map({'Yes': 1, 'No': 0})\n",
    "\n",
    "# transform the nominal categorial variable (with dummy variables)\n",
    "pd.get_dummies(df_trans_data, columns=['Race'])\n",
    "\n",
    "\n",
    "# check if there are any missing values after transformation\n",
    "missng_values = df_trans_data.isna().sum()\n",
    "\n",
    "if (sum(missng_values) > 0):\n",
    "    print(\"{} has {} missing value(s)\".format(col, missng_values))\n",
    "else:\n",
    "    print(\"No missing values found after transformation!\")    \n"
   ]
  },
  {
   "cell_type": "code",
   "execution_count": null,
   "id": "57f87f08",
   "metadata": {},
   "outputs": [],
   "source": [
    "# intialize variables\n",
    "pct = 0.8 # the percentage of training\n",
    "\n",
    "# split the dataset into 80% training data and 20% testing data\n",
    "training_data = df_trans_data.sample(frac=pct, random_state=25)\n",
    "testing_data = df_trans_data.drop(training_data.index)\n"
   ]
  },
  {
   "cell_type": "markdown",
   "id": "2b7e1824",
   "metadata": {},
   "source": [
    "### 4 Methods"
   ]
  },
  {
   "cell_type": "markdown",
   "id": "52581710",
   "metadata": {},
   "source": [
    "Introduce what methods will be used for the project"
   ]
  },
  {
   "cell_type": "markdown",
   "id": "00124a6e",
   "metadata": {},
   "source": [
    "### 4.1\tPrincipal Component Analysis"
   ]
  },
  {
   "cell_type": "markdown",
   "id": "142ab3ae",
   "metadata": {},
   "source": [
    "Describe how PCA works, show formula and equations"
   ]
  },
  {
   "cell_type": "markdown",
   "id": "4c7a9321",
   "metadata": {},
   "source": [
    "### 4.2\tQR Decomposition "
   ]
  },
  {
   "cell_type": "markdown",
   "id": "eb79a90d",
   "metadata": {},
   "source": [
    "Describe how to obtain the eigenvalues of the sample covariance matrix using QR (orthogonal and upper triangular)"
   ]
  },
  {
   "cell_type": "markdown",
   "id": "920781f3",
   "metadata": {},
   "source": [
    "### 4.3\tSingle Value Decomposition"
   ]
  },
  {
   "cell_type": "markdown",
   "id": "2ed32b1d",
   "metadata": {},
   "source": [
    "Describe how to obtain the eigenvalues of the sample covariance matrix using SVD (eigen-solver)"
   ]
  },
  {
   "cell_type": "markdown",
   "id": "4d0e9b27",
   "metadata": {},
   "source": [
    "### 4.4\tParallel Programming"
   ]
  },
  {
   "cell_type": "markdown",
   "id": "d044925a",
   "metadata": {},
   "source": [
    "Describe how to use parallel programming to obtain QR and SVD (advantages and disadvantages)"
   ]
  },
  {
   "cell_type": "markdown",
   "id": "80a54905",
   "metadata": {},
   "source": [
    "### 5 Analysis"
   ]
  },
  {
   "cell_type": "markdown",
   "id": "5ad27df0",
   "metadata": {},
   "source": [
    "### 5.1 Obtain the Eigenvalues of the Sample Covariance Matrix"
   ]
  },
  {
   "cell_type": "markdown",
   "id": "1978a024",
   "metadata": {},
   "source": [
    "Using QR and SVD to obtain the eigenvalues of the sample covariance matrix and determine the number of principal components needed from a screeplot. Obtain the associated eigenvectors and calculate the principal components for the sample data.\n",
    "\n",
    "Use parallel programming to evaluate the above procedures again"
   ]
  },
  {
   "cell_type": "markdown",
   "id": "9ed126a1",
   "metadata": {},
   "source": [
    "### 5.2 Plot the principal components in a scatterplot."
   ]
  },
  {
   "cell_type": "markdown",
   "id": "a12d2371",
   "metadata": {},
   "source": [
    "Plot the first K principal components in a scatterplot, and interpret the result"
   ]
  },
  {
   "cell_type": "markdown",
   "id": "0b0592b4",
   "metadata": {},
   "source": [
    "### 5.3 Confidence Region for the principal components"
   ]
  },
  {
   "cell_type": "markdown",
   "id": "9c0deb56",
   "metadata": {},
   "source": [
    "Find a 95% confidence region for the first K principal components, , and interpret the result"
   ]
  },
  {
   "cell_type": "markdown",
   "id": "aabee0be",
   "metadata": {},
   "source": [
    "### 6 The Regression Model and Findings"
   ]
  },
  {
   "cell_type": "markdown",
   "id": "127a5650",
   "metadata": {},
   "source": [
    "Select a regression model and explain it\n",
    "\n",
    "Optional: verify the selected model, resample testing data, verify the predictions of the model, construct a confusion matrix. \n",
    "\n",
    "Compare the speeds of QR, SVD and parallel programming for QR and SVD\n"
   ]
  },
  {
   "cell_type": "markdown",
   "id": "e827f4c0",
   "metadata": {},
   "source": [
    "### 7 Conclusion"
   ]
  },
  {
   "cell_type": "markdown",
   "id": "899462be",
   "metadata": {},
   "source": [
    "which column(s) is/are significant to cause heart heart disease, which columns the public should pay attention to? How many dimensions have been reduced after doing PCA. which matrix factorization is most efficient for PCA? Does parallel programming help improving the computation? etc. "
   ]
  },
  {
   "cell_type": "markdown",
   "id": "a3f77a8e",
   "metadata": {},
   "source": [
    "### 7.  Work Cited"
   ]
  },
  {
   "cell_type": "markdown",
   "id": "330bb170",
   "metadata": {},
   "source": [
    "Pytlak, Kamil. “Personal Key Indicators of Heart Disease.” Kaggle, 16 Feb. 2022, www.kaggle.com/datasets/kamilpytlak/personal-key-indicators-of-heart-disease. \n",
    "\n"
   ]
  },
  {
   "cell_type": "code",
   "execution_count": null,
   "id": "749a2ef2",
   "metadata": {},
   "outputs": [],
   "source": []
  }
 ],
 "metadata": {
  "kernelspec": {
   "display_name": "Python 3 (ipykernel)",
   "language": "python",
   "name": "python3"
  },
  "language_info": {
   "codemirror_mode": {
    "name": "ipython",
    "version": 3
   },
   "file_extension": ".py",
   "mimetype": "text/x-python",
   "name": "python",
   "nbconvert_exporter": "python",
   "pygments_lexer": "ipython3",
   "version": "3.9.12"
  }
 },
 "nbformat": 4,
 "nbformat_minor": 5
}
